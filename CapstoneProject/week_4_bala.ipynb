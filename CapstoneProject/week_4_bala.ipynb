{
 "cells": [
  {
   "cell_type": "code",
   "execution_count": 25,
   "metadata": {},
   "outputs": [],
   "source": [
    "import pandas as pd\n",
    "import numpy as np\n",
    "import matplotlib.pyplot as plt\n",
    "import seaborn as sns\n",
    "from sklearn.decomposition import PCA\n",
    "\n",
    "pd.set_option('display.max_columns', None)\n",
    "%matplotlib inline\n",
    "plt.rcParams.update({'font.size': 20})\n"
   ]
  },
  {
   "cell_type": "code",
   "execution_count": 2,
   "metadata": {},
   "outputs": [
    {
     "data": {
      "text/html": [
       "<div>\n",
       "<style scoped>\n",
       "    .dataframe tbody tr th:only-of-type {\n",
       "        vertical-align: middle;\n",
       "    }\n",
       "\n",
       "    .dataframe tbody tr th {\n",
       "        vertical-align: top;\n",
       "    }\n",
       "\n",
       "    .dataframe thead th {\n",
       "        text-align: right;\n",
       "    }\n",
       "</style>\n",
       "<table border=\"1\" class=\"dataframe\">\n",
       "  <thead>\n",
       "    <tr style=\"text-align: right;\">\n",
       "      <th></th>\n",
       "      <th>male</th>\n",
       "      <th>age</th>\n",
       "      <th>education</th>\n",
       "      <th>currentSmoker</th>\n",
       "      <th>cigsPerDay</th>\n",
       "      <th>BPMeds</th>\n",
       "      <th>prevalentStroke</th>\n",
       "      <th>prevalentHyp</th>\n",
       "      <th>diabetes</th>\n",
       "      <th>totChol</th>\n",
       "      <th>sysBP</th>\n",
       "      <th>diaBP</th>\n",
       "      <th>BMI</th>\n",
       "      <th>heartRate</th>\n",
       "      <th>glucose</th>\n",
       "      <th>TenYearCHD</th>\n",
       "    </tr>\n",
       "  </thead>\n",
       "  <tbody>\n",
       "    <tr>\n",
       "      <th>0</th>\n",
       "      <td>1</td>\n",
       "      <td>39</td>\n",
       "      <td>4.0</td>\n",
       "      <td>0</td>\n",
       "      <td>0.0</td>\n",
       "      <td>0.0</td>\n",
       "      <td>0</td>\n",
       "      <td>0</td>\n",
       "      <td>0</td>\n",
       "      <td>195.0</td>\n",
       "      <td>106.0</td>\n",
       "      <td>70.0</td>\n",
       "      <td>26.97</td>\n",
       "      <td>80.0</td>\n",
       "      <td>77.0</td>\n",
       "      <td>0</td>\n",
       "    </tr>\n",
       "    <tr>\n",
       "      <th>1</th>\n",
       "      <td>0</td>\n",
       "      <td>46</td>\n",
       "      <td>2.0</td>\n",
       "      <td>0</td>\n",
       "      <td>0.0</td>\n",
       "      <td>0.0</td>\n",
       "      <td>0</td>\n",
       "      <td>0</td>\n",
       "      <td>0</td>\n",
       "      <td>250.0</td>\n",
       "      <td>121.0</td>\n",
       "      <td>81.0</td>\n",
       "      <td>28.73</td>\n",
       "      <td>95.0</td>\n",
       "      <td>76.0</td>\n",
       "      <td>0</td>\n",
       "    </tr>\n",
       "    <tr>\n",
       "      <th>2</th>\n",
       "      <td>1</td>\n",
       "      <td>48</td>\n",
       "      <td>1.0</td>\n",
       "      <td>1</td>\n",
       "      <td>20.0</td>\n",
       "      <td>0.0</td>\n",
       "      <td>0</td>\n",
       "      <td>0</td>\n",
       "      <td>0</td>\n",
       "      <td>245.0</td>\n",
       "      <td>127.5</td>\n",
       "      <td>80.0</td>\n",
       "      <td>25.34</td>\n",
       "      <td>75.0</td>\n",
       "      <td>70.0</td>\n",
       "      <td>0</td>\n",
       "    </tr>\n",
       "    <tr>\n",
       "      <th>3</th>\n",
       "      <td>0</td>\n",
       "      <td>61</td>\n",
       "      <td>3.0</td>\n",
       "      <td>1</td>\n",
       "      <td>30.0</td>\n",
       "      <td>0.0</td>\n",
       "      <td>0</td>\n",
       "      <td>1</td>\n",
       "      <td>0</td>\n",
       "      <td>225.0</td>\n",
       "      <td>150.0</td>\n",
       "      <td>95.0</td>\n",
       "      <td>28.58</td>\n",
       "      <td>65.0</td>\n",
       "      <td>103.0</td>\n",
       "      <td>1</td>\n",
       "    </tr>\n",
       "    <tr>\n",
       "      <th>4</th>\n",
       "      <td>0</td>\n",
       "      <td>46</td>\n",
       "      <td>3.0</td>\n",
       "      <td>1</td>\n",
       "      <td>23.0</td>\n",
       "      <td>0.0</td>\n",
       "      <td>0</td>\n",
       "      <td>0</td>\n",
       "      <td>0</td>\n",
       "      <td>285.0</td>\n",
       "      <td>130.0</td>\n",
       "      <td>84.0</td>\n",
       "      <td>23.10</td>\n",
       "      <td>85.0</td>\n",
       "      <td>85.0</td>\n",
       "      <td>0</td>\n",
       "    </tr>\n",
       "  </tbody>\n",
       "</table>\n",
       "</div>"
      ],
      "text/plain": [
       "   male  age  education  currentSmoker  cigsPerDay  BPMeds  prevalentStroke  \\\n",
       "0     1   39        4.0              0         0.0     0.0                0   \n",
       "1     0   46        2.0              0         0.0     0.0                0   \n",
       "2     1   48        1.0              1        20.0     0.0                0   \n",
       "3     0   61        3.0              1        30.0     0.0                0   \n",
       "4     0   46        3.0              1        23.0     0.0                0   \n",
       "\n",
       "   prevalentHyp  diabetes  totChol  sysBP  diaBP    BMI  heartRate  glucose  \\\n",
       "0             0         0    195.0  106.0   70.0  26.97       80.0     77.0   \n",
       "1             0         0    250.0  121.0   81.0  28.73       95.0     76.0   \n",
       "2             0         0    245.0  127.5   80.0  25.34       75.0     70.0   \n",
       "3             1         0    225.0  150.0   95.0  28.58       65.0    103.0   \n",
       "4             0         0    285.0  130.0   84.0  23.10       85.0     85.0   \n",
       "\n",
       "   TenYearCHD  \n",
       "0           0  \n",
       "1           0  \n",
       "2           0  \n",
       "3           1  \n",
       "4           0  "
      ]
     },
     "execution_count": 2,
     "metadata": {},
     "output_type": "execute_result"
    }
   ],
   "source": [
    "data = pd.read_csv('heart_disease.csv')\n",
    "data.head()"
   ]
  },
  {
   "cell_type": "code",
   "execution_count": 3,
   "metadata": {},
   "outputs": [
    {
     "data": {
      "text/html": [
       "<div>\n",
       "<style scoped>\n",
       "    .dataframe tbody tr th:only-of-type {\n",
       "        vertical-align: middle;\n",
       "    }\n",
       "\n",
       "    .dataframe tbody tr th {\n",
       "        vertical-align: top;\n",
       "    }\n",
       "\n",
       "    .dataframe thead th {\n",
       "        text-align: right;\n",
       "    }\n",
       "</style>\n",
       "<table border=\"1\" class=\"dataframe\">\n",
       "  <thead>\n",
       "    <tr style=\"text-align: right;\">\n",
       "      <th></th>\n",
       "      <th>male</th>\n",
       "      <th>age</th>\n",
       "      <th>education</th>\n",
       "      <th>currentSmoker</th>\n",
       "      <th>cigsPerDay</th>\n",
       "      <th>BPMeds</th>\n",
       "      <th>prevalentStroke</th>\n",
       "      <th>prevalentHyp</th>\n",
       "      <th>diabetes</th>\n",
       "      <th>totChol</th>\n",
       "      <th>sysBP</th>\n",
       "      <th>diaBP</th>\n",
       "      <th>BMI</th>\n",
       "      <th>heartRate</th>\n",
       "      <th>glucose</th>\n",
       "      <th>TenYearCHD</th>\n",
       "    </tr>\n",
       "  </thead>\n",
       "  <tbody>\n",
       "    <tr>\n",
       "      <th>count</th>\n",
       "      <td>4238.000000</td>\n",
       "      <td>4238.000000</td>\n",
       "      <td>4133.000000</td>\n",
       "      <td>4238.000000</td>\n",
       "      <td>4209.000000</td>\n",
       "      <td>4185.000000</td>\n",
       "      <td>4238.000000</td>\n",
       "      <td>4238.000000</td>\n",
       "      <td>4238.000000</td>\n",
       "      <td>4188.000000</td>\n",
       "      <td>4238.000000</td>\n",
       "      <td>4238.000000</td>\n",
       "      <td>4219.000000</td>\n",
       "      <td>4237.000000</td>\n",
       "      <td>3850.000000</td>\n",
       "      <td>4238.000000</td>\n",
       "    </tr>\n",
       "    <tr>\n",
       "      <th>mean</th>\n",
       "      <td>0.429212</td>\n",
       "      <td>49.584946</td>\n",
       "      <td>1.978950</td>\n",
       "      <td>0.494101</td>\n",
       "      <td>9.003089</td>\n",
       "      <td>0.029630</td>\n",
       "      <td>0.005899</td>\n",
       "      <td>0.310524</td>\n",
       "      <td>0.025720</td>\n",
       "      <td>236.721585</td>\n",
       "      <td>132.352407</td>\n",
       "      <td>82.893464</td>\n",
       "      <td>25.802008</td>\n",
       "      <td>75.878924</td>\n",
       "      <td>81.966753</td>\n",
       "      <td>0.151958</td>\n",
       "    </tr>\n",
       "    <tr>\n",
       "      <th>std</th>\n",
       "      <td>0.495022</td>\n",
       "      <td>8.572160</td>\n",
       "      <td>1.019791</td>\n",
       "      <td>0.500024</td>\n",
       "      <td>11.920094</td>\n",
       "      <td>0.169584</td>\n",
       "      <td>0.076587</td>\n",
       "      <td>0.462763</td>\n",
       "      <td>0.158316</td>\n",
       "      <td>44.590334</td>\n",
       "      <td>22.038097</td>\n",
       "      <td>11.910850</td>\n",
       "      <td>4.080111</td>\n",
       "      <td>12.026596</td>\n",
       "      <td>23.959998</td>\n",
       "      <td>0.359023</td>\n",
       "    </tr>\n",
       "    <tr>\n",
       "      <th>min</th>\n",
       "      <td>0.000000</td>\n",
       "      <td>32.000000</td>\n",
       "      <td>1.000000</td>\n",
       "      <td>0.000000</td>\n",
       "      <td>0.000000</td>\n",
       "      <td>0.000000</td>\n",
       "      <td>0.000000</td>\n",
       "      <td>0.000000</td>\n",
       "      <td>0.000000</td>\n",
       "      <td>107.000000</td>\n",
       "      <td>83.500000</td>\n",
       "      <td>48.000000</td>\n",
       "      <td>15.540000</td>\n",
       "      <td>44.000000</td>\n",
       "      <td>40.000000</td>\n",
       "      <td>0.000000</td>\n",
       "    </tr>\n",
       "    <tr>\n",
       "      <th>25%</th>\n",
       "      <td>0.000000</td>\n",
       "      <td>42.000000</td>\n",
       "      <td>1.000000</td>\n",
       "      <td>0.000000</td>\n",
       "      <td>0.000000</td>\n",
       "      <td>0.000000</td>\n",
       "      <td>0.000000</td>\n",
       "      <td>0.000000</td>\n",
       "      <td>0.000000</td>\n",
       "      <td>206.000000</td>\n",
       "      <td>117.000000</td>\n",
       "      <td>75.000000</td>\n",
       "      <td>23.070000</td>\n",
       "      <td>68.000000</td>\n",
       "      <td>71.000000</td>\n",
       "      <td>0.000000</td>\n",
       "    </tr>\n",
       "    <tr>\n",
       "      <th>50%</th>\n",
       "      <td>0.000000</td>\n",
       "      <td>49.000000</td>\n",
       "      <td>2.000000</td>\n",
       "      <td>0.000000</td>\n",
       "      <td>0.000000</td>\n",
       "      <td>0.000000</td>\n",
       "      <td>0.000000</td>\n",
       "      <td>0.000000</td>\n",
       "      <td>0.000000</td>\n",
       "      <td>234.000000</td>\n",
       "      <td>128.000000</td>\n",
       "      <td>82.000000</td>\n",
       "      <td>25.400000</td>\n",
       "      <td>75.000000</td>\n",
       "      <td>78.000000</td>\n",
       "      <td>0.000000</td>\n",
       "    </tr>\n",
       "    <tr>\n",
       "      <th>75%</th>\n",
       "      <td>1.000000</td>\n",
       "      <td>56.000000</td>\n",
       "      <td>3.000000</td>\n",
       "      <td>1.000000</td>\n",
       "      <td>20.000000</td>\n",
       "      <td>0.000000</td>\n",
       "      <td>0.000000</td>\n",
       "      <td>1.000000</td>\n",
       "      <td>0.000000</td>\n",
       "      <td>263.000000</td>\n",
       "      <td>144.000000</td>\n",
       "      <td>89.875000</td>\n",
       "      <td>28.040000</td>\n",
       "      <td>83.000000</td>\n",
       "      <td>87.000000</td>\n",
       "      <td>0.000000</td>\n",
       "    </tr>\n",
       "    <tr>\n",
       "      <th>max</th>\n",
       "      <td>1.000000</td>\n",
       "      <td>70.000000</td>\n",
       "      <td>4.000000</td>\n",
       "      <td>1.000000</td>\n",
       "      <td>70.000000</td>\n",
       "      <td>1.000000</td>\n",
       "      <td>1.000000</td>\n",
       "      <td>1.000000</td>\n",
       "      <td>1.000000</td>\n",
       "      <td>696.000000</td>\n",
       "      <td>295.000000</td>\n",
       "      <td>142.500000</td>\n",
       "      <td>56.800000</td>\n",
       "      <td>143.000000</td>\n",
       "      <td>394.000000</td>\n",
       "      <td>1.000000</td>\n",
       "    </tr>\n",
       "  </tbody>\n",
       "</table>\n",
       "</div>"
      ],
      "text/plain": [
       "              male          age    education  currentSmoker   cigsPerDay  \\\n",
       "count  4238.000000  4238.000000  4133.000000    4238.000000  4209.000000   \n",
       "mean      0.429212    49.584946     1.978950       0.494101     9.003089   \n",
       "std       0.495022     8.572160     1.019791       0.500024    11.920094   \n",
       "min       0.000000    32.000000     1.000000       0.000000     0.000000   \n",
       "25%       0.000000    42.000000     1.000000       0.000000     0.000000   \n",
       "50%       0.000000    49.000000     2.000000       0.000000     0.000000   \n",
       "75%       1.000000    56.000000     3.000000       1.000000    20.000000   \n",
       "max       1.000000    70.000000     4.000000       1.000000    70.000000   \n",
       "\n",
       "            BPMeds  prevalentStroke  prevalentHyp     diabetes      totChol  \\\n",
       "count  4185.000000      4238.000000   4238.000000  4238.000000  4188.000000   \n",
       "mean      0.029630         0.005899      0.310524     0.025720   236.721585   \n",
       "std       0.169584         0.076587      0.462763     0.158316    44.590334   \n",
       "min       0.000000         0.000000      0.000000     0.000000   107.000000   \n",
       "25%       0.000000         0.000000      0.000000     0.000000   206.000000   \n",
       "50%       0.000000         0.000000      0.000000     0.000000   234.000000   \n",
       "75%       0.000000         0.000000      1.000000     0.000000   263.000000   \n",
       "max       1.000000         1.000000      1.000000     1.000000   696.000000   \n",
       "\n",
       "             sysBP        diaBP          BMI    heartRate      glucose  \\\n",
       "count  4238.000000  4238.000000  4219.000000  4237.000000  3850.000000   \n",
       "mean    132.352407    82.893464    25.802008    75.878924    81.966753   \n",
       "std      22.038097    11.910850     4.080111    12.026596    23.959998   \n",
       "min      83.500000    48.000000    15.540000    44.000000    40.000000   \n",
       "25%     117.000000    75.000000    23.070000    68.000000    71.000000   \n",
       "50%     128.000000    82.000000    25.400000    75.000000    78.000000   \n",
       "75%     144.000000    89.875000    28.040000    83.000000    87.000000   \n",
       "max     295.000000   142.500000    56.800000   143.000000   394.000000   \n",
       "\n",
       "        TenYearCHD  \n",
       "count  4238.000000  \n",
       "mean      0.151958  \n",
       "std       0.359023  \n",
       "min       0.000000  \n",
       "25%       0.000000  \n",
       "50%       0.000000  \n",
       "75%       0.000000  \n",
       "max       1.000000  "
      ]
     },
     "execution_count": 3,
     "metadata": {},
     "output_type": "execute_result"
    }
   ],
   "source": [
    "data.describe()"
   ]
  },
  {
   "cell_type": "code",
   "execution_count": 4,
   "metadata": {},
   "outputs": [],
   "source": [
    "def getMissingCount(data):\n",
    "    try:\n",
    "        missingCount = data.isnull().sum() * 100/ len(data)\n",
    "        return missingCount\n",
    "    except Exception as exp:\n",
    "        print(str(exp))"
   ]
  },
  {
   "cell_type": "code",
   "execution_count": 5,
   "metadata": {},
   "outputs": [],
   "source": [
    "def visualizeMissingValue(data):\n",
    "    try:\n",
    "        missingCount = getMissingCount(data)\n",
    "        print(missingCount)\n",
    "        \n",
    "        #Plotting missing count columns as fractions\n",
    "        plt.figure(figsize=(16, 8))\n",
    "        plt.xticks(np.arange(len(missingCount)) + 0.5, missingCount.index, rotation='vertical')\n",
    "        plt.ylabel('fraction of rows with missing data')\n",
    "        plt.bar(np.arange(len(missingCount)), missingCount)\n",
    "        plt.show()\n",
    "\n",
    "        #Plotting missing count columns as color coded graph\n",
    "        plt.figure(figsize=(15, 20))\n",
    "        sns.heatmap(pd.DataFrame(data.isnull().sum() / data.shape[0] * 100), annot=True,\n",
    "        cmap=sns.color_palette(\"cool\"), linewidth=1, linecolor=\"white\")\n",
    "        plt.title(\"Heart disease - missing values\")\n",
    "        plt.show()\n",
    "        \n",
    "        missingColumn = data.columns[data.isna().any()].tolist()\n",
    "        print(missingColumn)\n",
    "        \n",
    "        #TODO. This code is incomplete\n",
    "        #msno.matrix(data.loc[:,['PctPrivateCoverageAlone']])\n",
    "        #msno.bar(data.loc[:,['PctPrivateCoverageAlone']], color=\"blue\", log=False, figsize=(30, 18))\n",
    "        #msno.heatmap(data[missingColumn], figsize=(20, 20))\n",
    "\n",
    "    except Exception as exp:\n",
    "        print(str(exp))"
   ]
  },
  {
   "cell_type": "code",
   "execution_count": null,
   "metadata": {},
   "outputs": [],
   "source": [
    "visualizeMissingValue(data)"
   ]
  },
  {
   "cell_type": "code",
   "execution_count": 6,
   "metadata": {},
   "outputs": [],
   "source": [
    "data_01 = data.dropna(axis = 0, how ='any') "
   ]
  },
  {
   "cell_type": "code",
   "execution_count": null,
   "metadata": {},
   "outputs": [],
   "source": [
    "def visualizeCorrelation(data):\n",
    "        try:\n",
    "            d1 = data.copy()\n",
    "\n",
    "            categoricalCols = d1.select_dtypes(include=[\"category\"]).columns \n",
    "            categoricalCols = categoricalCols.tolist()\n",
    "            for i in categoricalCols:\n",
    "                d1[i] = d1[i].astype('object')\n",
    "            \n",
    "            corr = d1.corr()\n",
    "            g = sns.heatmap(corr, vmax=.9, center=0, square=True, linewidths=.5, \n",
    "                            cbar_kws={\"shrink\": .5}, annot=True, fmt='.1f', cmap='coolwarm')\n",
    "            sns.despine()\n",
    "            g.figure.set_size_inches(24, 20)\n",
    "            plt.show()\n",
    "        except Exception as exp:\n",
    "            print(str(exp))  "
   ]
  },
  {
   "cell_type": "code",
   "execution_count": null,
   "metadata": {},
   "outputs": [],
   "source": [
    "data_categorical = data_01[['male', 'education', 'currentSmoker', 'BPMeds', 'prevalentStroke', 'prevalentHyp', 'diabetes']].copy()\n",
    "data_numerical = data_01[['age', 'cigsPerDay', 'totChol', 'sysBP', 'diaBP', 'heartRate', 'glucose']].copy()"
   ]
  },
  {
   "cell_type": "code",
   "execution_count": null,
   "metadata": {},
   "outputs": [],
   "source": [
    "\n",
    "visualizeCorrelation(data_categorical)"
   ]
  },
  {
   "cell_type": "code",
   "execution_count": null,
   "metadata": {},
   "outputs": [],
   "source": [
    "visualizeCorrelation(data_numerical)"
   ]
  },
  {
   "cell_type": "code",
   "execution_count": null,
   "metadata": {},
   "outputs": [],
   "source": [
    "def snsPlotNumeric(data_i):\n",
    "    try:\n",
    "        \n",
    "        d1 = data.copy()\n",
    "        categoricalCols = d1.select_dtypes(include=[\"category\"]).columns \n",
    "        numericCols = d1.select_dtypes(include=[\"number\"]).columns \n",
    "\n",
    "        for i in numericCols:\n",
    "            for j in categoricalCols:\n",
    "                sns.catplot(x=j, y=i, hue=response,   data=data, kind='bar')\n",
    "            \n",
    "        for i in range(len(numericCols)):\n",
    "            for j in range(len(numericCols)-1):\n",
    "                sns.scatterplot(data=data, x=numericCols[i], y=numericCols[j+1], palette=\"deep\", legend=\"full\")\n",
    "                plt.show()\n",
    "\n",
    "        #TODO : Education is a category. Why does the graph not show this ?\n",
    "        for i in categoricalCols:\n",
    "            for j in [response]:\n",
    "                plt.figure(figsize=(15, 7))\n",
    "                plt.subplot(121)\n",
    "                graph = sns.countplot(y=data[i],\n",
    "                                        palette=\"Set2\",\n",
    "                                        order=data[i].value_counts().index[:100])\n",
    "                plt.title(\"Distribution of \" + i)\n",
    "\n",
    "                plt.subplot(122)\n",
    "                sns.countplot(y=data[i],\n",
    "                                hue=data[j], palette=\"Set2\",\n",
    "                                order=data[i].value_counts().index[:100])\n",
    "                plt.ylabel(\"\")\n",
    "                plt.title(\"Distribution of \" + i + \" by \" + j)\n",
    "\n",
    "                plt.subplots_adjust(wspace=.4)\n",
    "\n",
    "    except Exception as exp:\n",
    "        print(str(exp))\n",
    "\n"
   ]
  },
  {
   "cell_type": "code",
   "execution_count": null,
   "metadata": {},
   "outputs": [],
   "source": [
    "snsPlot(data_01)"
   ]
  },
  {
   "cell_type": "code",
   "execution_count": null,
   "metadata": {},
   "outputs": [],
   "source": [
    "sns.pairplot(data_01)"
   ]
  },
  {
   "cell_type": "code",
   "execution_count": null,
   "metadata": {},
   "outputs": [],
   "source": [
    "data_01.describe()"
   ]
  },
  {
   "cell_type": "code",
   "execution_count": null,
   "metadata": {},
   "outputs": [],
   "source": [
    "def multipleFacets(data):\n",
    "    #g = sns.FacetGrid(data_01, col=\"education\", hue=\"glucose\")\n",
    "    g = sns.FacetGrid(data_01, col=\"education\")\n",
    "    g.map_dataframe(sns.scatterplot, x=\"glucose\", y=\"heartRate\")\n",
    "    g.set_axis_labels(\"Glucose\", \"Heart Rate\")\n",
    "    g.add_legend()"
   ]
  },
  {
   "cell_type": "code",
   "execution_count": null,
   "metadata": {},
   "outputs": [],
   "source": [
    "multipleFacets(data_01)"
   ]
  },
  {
   "cell_type": "code",
   "execution_count": null,
   "metadata": {},
   "outputs": [],
   "source": [
    "def performPCA(data):\n",
    "    try:\n",
    "        pca = PCA()\n",
    "        pcaModel = pca.fit(data)\n",
    "        pcaTransformed = pd.DataFrame(pcaModel.transform(data), columns=range(data.shape[1]))\n",
    "        \n",
    "        for i in range(len(pcaTransformed.columns)):\n",
    "            pcaTransformed.rename(columns={i: 'PCA' + str(i)}, inplace=True)        \n",
    "        \n",
    "        comp = pd.DataFrame(pcaModel.components_, columns=data.columns)\n",
    "\n",
    "        return pcaTransformed\n",
    "    \n",
    "    except Exception as exp:\n",
    "        print(str(exp))\n"
   ]
  },
  {
   "cell_type": "code",
   "execution_count": 7,
   "metadata": {},
   "outputs": [
    {
     "name": "stdout",
     "output_type": "stream",
     "text": [
      "<class 'pandas.core.frame.DataFrame'>\n",
      "Int64Index: 3656 entries, 0 to 4237\n",
      "Data columns (total 1 columns):\n",
      " #   Column      Non-Null Count  Dtype\n",
      "---  ------      --------------  -----\n",
      " 0   TenYearCHD  3656 non-null   int64\n",
      "dtypes: int64(1)\n",
      "memory usage: 57.1 KB\n",
      "None\n"
     ]
    }
   ],
   "source": [
    "targetDF = data_01[['TenYearCHD']]\n",
    "print(targetDF.info())\n",
    "uniqueTarget = targetDF['TenYearCHD'].unique()"
   ]
  },
  {
   "cell_type": "code",
   "execution_count": 8,
   "metadata": {},
   "outputs": [],
   "source": [
    "d1 = data_01.drop('TenYearCHD', axis=1)"
   ]
  },
  {
   "cell_type": "code",
   "execution_count": 10,
   "metadata": {},
   "outputs": [],
   "source": [
    "from sklearn.preprocessing import MinMaxScaler\n",
    "scaler = MinMaxScaler(feature_range=(0, 1))\n",
    "d2 = scaler.fit_transform(d1)\n",
    "scaledData = pd.DataFrame(d2, columns=d1.columns)"
   ]
  },
  {
   "cell_type": "code",
   "execution_count": 12,
   "metadata": {},
   "outputs": [
    {
     "name": "stdout",
     "output_type": "stream",
     "text": [
      "       PCA0      PCA1      PCA2      PCA3      PCA4      PCA5      PCA6  \\\n",
      "0  0.092669 -0.086193 -0.868281  0.636677 -0.194255  0.037603  0.007445   \n",
      "1 -0.545206 -0.471654 -0.164493 -0.019403 -0.089576  0.014315 -0.009261   \n",
      "2  0.799802  0.022705 -0.127254 -0.380037  0.010552 -0.017296  0.031086   \n",
      "3 -0.019101  0.342885  0.907740  0.405880  0.253579 -0.130124 -0.091099   \n",
      "4  0.274503 -0.555707  0.480372  0.299015  0.064127  0.002662 -0.010294   \n",
      "\n",
      "       PCA7      PCA8      PCA9     PCA10     PCA11     PCA12     PCA13  \\\n",
      "0  0.012300 -0.110026 -0.047147  0.047146 -0.087810 -0.000231 -0.000425   \n",
      "1  0.198647 -0.074903 -0.010558  0.068672 -0.038781  0.000888 -0.021004   \n",
      "2  0.029037  0.018951 -0.011229  0.010305  0.031399 -0.002853 -0.016978   \n",
      "3 -0.072359  0.102220  0.211211 -0.033680 -0.097743 -0.006833  0.051197   \n",
      "4  0.147532  0.003397  0.075119  0.010181  0.087008  0.008406  0.012861   \n",
      "\n",
      "      PCA14  \n",
      "0  0.017535  \n",
      "1 -0.012541  \n",
      "2  0.019931  \n",
      "3 -0.060449  \n",
      "4 -0.012079  \n",
      "        male       age  education  currentSmoker  cigsPerDay    BPMeds  \\\n",
      "0   0.569178 -0.112378   0.049292       0.729840    0.225041 -0.043288   \n",
      "1   0.514932  0.156679  -0.097365      -0.059717    0.019888  0.081136   \n",
      "2  -0.635795  0.009531  -0.066086       0.624466    0.127032  0.056626   \n",
      "3  -0.018162 -0.104631   0.982130      -0.012069   -0.006931  0.022218   \n",
      "4  -0.009424  0.941101   0.129001       0.096676   -0.008712  0.093346   \n",
      "5   0.004180 -0.206723  -0.003516      -0.004530    0.002244  0.436783   \n",
      "6   0.017998 -0.026146  -0.020003      -0.004131    0.003743  0.881080   \n",
      "7   0.006930 -0.004577   0.030262      -0.047262    0.166405 -0.018046   \n",
      "8  -0.033182 -0.062984   0.003935       0.054981   -0.078051 -0.086656   \n",
      "9  -0.063804  0.016019   0.002315      -0.240179    0.940988 -0.006293   \n",
      "10  0.005502 -0.052195   0.009138       0.035476   -0.105597  0.001221   \n",
      "11  0.021167 -0.104159  -0.030277      -0.008093   -0.042450 -0.017916   \n",
      "12 -0.001149 -0.007806   0.004754      -0.001026    0.015174 -0.054807   \n",
      "13  0.003050 -0.034502   0.002532      -0.002571    0.014223 -0.014305   \n",
      "14  0.013303 -0.060214   0.011135      -0.002308   -0.007415 -0.025344   \n",
      "\n",
      "    prevalentStroke  prevalentHyp  diabetes   totChol     sysBP     diaBP  \\\n",
      "0         -0.006501     -0.261697 -0.015241 -0.020196 -0.056845 -0.048808   \n",
      "1          0.010155      0.801293  0.033513  0.025095  0.132646  0.153664   \n",
      "2          0.001328      0.413077  0.000371  0.021010  0.067516  0.054134   \n",
      "3         -0.004166      0.147556 -0.018793  0.001672 -0.000035  0.022094   \n",
      "4          0.009508     -0.179459  0.159195  0.113117  0.061744 -0.023488   \n",
      "5          0.021386     -0.061000  0.835114 -0.001321  0.026902  0.020806   \n",
      "6          0.050684     -0.085820 -0.434986  0.009204  0.026424  0.022999   \n",
      "7         -0.014345     -0.179493 -0.104696  0.156801  0.279856  0.471763   \n",
      "8          0.021914     -0.133452  0.028521  0.055475  0.314014  0.571639   \n",
      "9         -0.013700      0.015119  0.027266  0.083601 -0.041391 -0.067345   \n",
      "10        -0.014828      0.047279 -0.028306  0.638533 -0.250093 -0.338789   \n",
      "11        -0.032051     -0.012792  0.024015  0.736250  0.129555  0.148240   \n",
      "12         0.997179     -0.001136 -0.001289  0.033546 -0.018039 -0.003626   \n",
      "13        -0.003594     -0.009919 -0.258478  0.001631  0.287327 -0.191404   \n",
      "14         0.014787     -0.031514  0.074908 -0.008179  0.792799 -0.491736   \n",
      "\n",
      "         BMI  heartRate   glucose  \n",
      "0  -0.027888  -0.013030 -0.008087  \n",
      "1   0.068051   0.017867  0.013689  \n",
      "2  -0.003563   0.058543  0.000564  \n",
      "3  -0.025128  -0.012655 -0.005467  \n",
      "4  -0.011407  -0.038830  0.055017  \n",
      "5   0.052403   0.071807  0.236169  \n",
      "6  -0.002762  -0.086057 -0.119946  \n",
      "7   0.237237   0.737308  0.002981  \n",
      "8   0.372749  -0.625884 -0.007960  \n",
      "9   0.037015  -0.190853 -0.017063  \n",
      "10  0.629494   0.005994 -0.012165  \n",
      "11 -0.628459  -0.089691 -0.000918  \n",
      "12 -0.017669   0.021562  0.008348  \n",
      "13  0.015927  -0.038962  0.900273  \n",
      "14  0.051770   0.003374 -0.339785  \n"
     ]
    }
   ],
   "source": [
    "pca = PCA()\n",
    "\n",
    "pcaModel = pca.fit(scaledData)\n",
    "pcaTransformed = pd.DataFrame(pcaModel.transform(scaledData), columns=range(scaledData.shape[1]))\n",
    "for i in range(len(pcaTransformed.columns)):\n",
    "    pcaTransformed.rename(columns={i: 'PCA' + str(i)}, inplace=True)\n",
    "\n",
    "print(pcaTransformed.head())\n",
    "\n",
    "comp = pd.DataFrame(pcaModel.components_, columns=scaledData.columns)\n",
    "print(comp)"
   ]
  },
  {
   "cell_type": "code",
   "execution_count": 15,
   "metadata": {},
   "outputs": [],
   "source": [
    "    def drawScreePlot(pca, columns):\n",
    "        try:\n",
    "            percent_variance = np.round(pca.explained_variance_ratio_ * 100, decimals=2)\n",
    "            # columns = ['PC1', 'PC2', 'PC3', 'PC4']\n",
    "            plt.figure(figsize=(8, 8))\n",
    "            plt.bar(x=range(1, len(columns) + 1), height=percent_variance, tick_label=columns)\n",
    "            plt.ylabel('Percentate of Variance Explained')\n",
    "            plt.xlabel('Principal Component')\n",
    "            plt.title('PCA Scree Plot')\n",
    "            plt.show()\n",
    "        except Exception as exp:\n",
    "            print(str(exp))"
   ]
  },
  {
   "cell_type": "code",
   "execution_count": 26,
   "metadata": {},
   "outputs": [
    {
     "data": {
      "image/png": "[encoded data removed]",
      "text/plain": [
       "<Figure size 576x576 with 1 Axes>"
      ]
     },
     "metadata": {
      "needs_background": "light"
     },
     "output_type": "display_data"
    }
   ],
   "source": [
    "drawScreePlot(pca, pcaTransformed.columns)"
   ]
  },
  {
   "cell_type": "code",
   "execution_count": 18,
   "metadata": {},
   "outputs": [],
   "source": [
    "    def drawGraph(data, response, uniqueTarget):\n",
    "        try:\n",
    "\n",
    "            fig = plt.figure(figsize=(8, 8))\n",
    "            plt.subplot(121)\n",
    "            plt.scatter(data.iloc[:, 0], data.iloc[:, 1], alpha=0.8)\n",
    "            plt.xlabel('PCA0')\n",
    "            plt.ylabel('PCA1')\n",
    "            plt.show()\n",
    "\n",
    "            plt.subplot(122)\n",
    "            plt.xlabel('PCA0')\n",
    "            plt.ylabel('PCA1')\n",
    "\n",
    "            colors = np.random.rand(len(uniqueTarget))\n",
    "\n",
    "            # for target, color in zip(uniqueTarget, colors):\n",
    "            for target in (uniqueTarget):\n",
    "                indicesToKeep = data[response] == target\n",
    "                plt.scatter(data.loc[indicesToKeep, 'PCA0']\n",
    "                            , data.loc[indicesToKeep, 'PCA1']\n",
    "                            # , c=color\n",
    "                            , s=50)\n",
    "            plt.legend(uniqueTarget)\n",
    "            plt.grid()\n",
    "\n",
    "\n",
    "        except Exception as exp:\n",
    "            print(str(exp))"
   ]
  },
  {
   "cell_type": "code",
   "execution_count": 17,
   "metadata": {},
   "outputs": [],
   "source": [
    "pcaTransformedResponse = pd.concat([pcaTransformed, targetDF], axis=1)"
   ]
  },
  {
   "cell_type": "code",
   "execution_count": 27,
   "metadata": {},
   "outputs": [
    {
     "data": {
      "image/png": "[encoded data removed]",
      "text/plain": [
       "<Figure size 576x576 with 1 Axes>"
      ]
     },
     "metadata": {
      "needs_background": "light"
     },
     "output_type": "display_data"
    },
    {
     "data": {
      "image/png": "[encoded data removed]",
      "text/plain": [
       "<Figure size 432x288 with 1 Axes>"
      ]
     },
     "metadata": {
      "needs_background": "light"
     },
     "output_type": "display_data"
    }
   ],
   "source": [
    "drawGraph(pcaTransformedResponse, 'TenYearCHD', uniqueTarget)"
   ]
  },
  {
   "cell_type": "code",
   "execution_count": null,
   "metadata": {},
   "outputs": [],
   "source": [
    "data_02 = performPCA(data_01)"
   ]
  },
  {
   "cell_type": "code",
   "execution_count": 20,
   "metadata": {},
   "outputs": [],
   "source": [
    " def showVariance(pcaModel, pca):\n",
    "        try:\n",
    "            print(pcaModel.explained_variance_ratio_)\n",
    "            print(np.cumsum(pcaModel.explained_variance_ratio_))\n",
    "            plt.figure(figsize=(8, 8))\n",
    "            plt.plot(list(range(1, len(pca.explained_variance_ratio_) + 1)), pca.explained_variance_ratio_)\n",
    "            plt.axis([0, len(pca.explained_variance_ratio_) + 1, 0, max(pca.explained_variance_ratio_) + 0.05])\n",
    "            # plt.xticks(list(range(1, len(pca.explained_variance_ratio_))))\n",
    "            plt.xlabel('Principal Components')\n",
    "            plt.ylabel('Variance Explained')\n",
    "            plt.show()\n",
    "\n",
    "            plt.figure(figsize=(8, 8))\n",
    "            plt.plot(list(range(1, len(pca.explained_variance_ratio_) + 1)), np.cumsum(pca.explained_variance_ratio_))\n",
    "            plt.axis([0, len(pca.explained_variance_ratio_) + 1, 0, 1.1])\n",
    "            plt.axhline(y=0.95, color='r', linestyle='--', linewidth=1)\n",
    "            # plt.xticks(list(range(1, 61)))\n",
    "            plt.xlabel('# of Principal Components')\n",
    "            plt.ylabel('Cumulative Variance Explained')\n",
    "            plt.show()\n",
    "\n",
    "        except Exception as exp:\n",
    "            print(str(exp))"
   ]
  },
  {
   "cell_type": "code",
   "execution_count": 28,
   "metadata": {},
   "outputs": [
    {
     "name": "stdout",
     "output_type": "stream",
     "text": [
      "[0.31455186 0.23304546 0.18607464 0.11195193 0.04164222 0.02696261\n",
      " 0.02591223 0.01504677 0.01127699 0.00954838 0.00710737 0.00676893\n",
      " 0.00541935 0.00258908 0.00210216]\n",
      "[0.31455186 0.54759732 0.73367196 0.84562389 0.88726611 0.91422872\n",
      " 0.94014096 0.95518773 0.96646472 0.9760131  0.98312047 0.98988941\n",
      " 0.99530875 0.99789784 1.        ]\n"
     ]
    },
    {
     "data": {
      "image/png": "[encoded data removed]",
      "text/plain": [
       "<Figure size 576x576 with 1 Axes>"
      ]
     },
     "metadata": {
      "needs_background": "light"
     },
     "output_type": "display_data"
    },
    {
     "data": {
      "image/png": "[encoded data removed]",
      "text/plain": [
       "<Figure size 576x576 with 1 Axes>"
      ]
     },
     "metadata": {
      "needs_background": "light"
     },
     "output_type": "display_data"
    }
   ],
   "source": [
    "showVariance(pcaModel, pca)"
   ]
  },
  {
   "cell_type": "code",
   "execution_count": null,
   "metadata": {},
   "outputs": [],
   "source": [
    "data_02.describe()"
   ]
  },
  {
   "cell_type": "code",
   "execution_count": null,
   "metadata": {},
   "outputs": [],
   "source": [
    "visualizeCorrelation(data_02)"
   ]
  },
  {
   "cell_type": "code",
   "execution_count": null,
   "metadata": {},
   "outputs": [],
   "source": []
  }
 ],
 "metadata": {
  "kernelspec": {
   "display_name": "Python 3",
   "language": "python",
   "name": "python3"
  },
  "language_info": {
   "codemirror_mode": {
    "name": "ipython",
    "version": 3
   },
   "file_extension": ".py",
   "mimetype": "text/x-python",
   "name": "python",
   "nbconvert_exporter": "python",
   "pygments_lexer": "ipython3",
   "version": "3.7.6"
  }
 },
 "nbformat": 4,
 "nbformat_minor": 4
}
